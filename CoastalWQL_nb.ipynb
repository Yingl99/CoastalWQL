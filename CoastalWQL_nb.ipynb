{
 "cells": [
  {
   "cell_type": "code",
   "execution_count": 1,
   "metadata": {},
   "outputs": [],
   "source": [
    "import importlib\n",
    "import preprocessing\n",
    "importlib.reload(preprocessing)\n",
    "from preprocessing import *"
   ]
  },
  {
   "cell_type": "markdown",
   "metadata": {},
   "source": [
    "# CoastalWQL\n",
    "This is the python notebook for the workflow process as follows:\n",
    "\n",
    "![workflow](\"workflow.jpg\")"
   ]
  },
  {
   "cell_type": "markdown",
   "metadata": {},
   "source": [
    "### Indicate the directory for storing processed images"
   ]
  },
  {
   "cell_type": "markdown",
   "metadata": {},
   "source": [
    "## Inputs"
   ]
  },
  {
   "cell_type": "markdown",
   "metadata": {},
   "source": [
    "#### Required inputs"
   ]
  },
  {
   "cell_type": "code",
   "execution_count": 10,
   "metadata": {},
   "outputs": [],
   "source": [
    "image_fp = r\"C:\\Users\\PAKHUIYING\\Documents\\image_processing\\10_11_2021\\11-34-17RES1280_EXP0047_GAN0030_BIT08_2EXP0000_GAN0010_RES1280_BIT08\"\n",
    "spectrometer_fp = r\"C:\\Users\\PAKHUIYING\\Documents\\image_processing\\10_11_2021\\11_10_2021\"\n",
    "fp_store = \"outputs\"\n",
    "prefix = \"2021_11_10_11-34-17\"\n",
    "height = 58 #in meters\n",
    "gps_index_txt = r\"inputs\\gps_index_2021_11_10_11-34-17.txt\"\n",
    "slider = 1400 #in milliseconds (time delay correction)\n",
    "mask_checkbox = False\n",
    "classify_checkbox = False\n",
    "noise_checkbox = True\n",
    "sunglint_checkbox = False\n",
    "predict_checkbox = False\n",
    "corrected_fp = r\"inputs\\corrected_indices.json\" #corrected image indices (optional)\n",
    "corrected_indices = None\n",
    "line_start = 0\n",
    "line_stop = 1\n",
    "r,g,b = 38,23,15\n",
    "\n",
    "with open(gps_index_txt, \"r\") as f:\n",
    "    gps_indices = f.readlines()\n",
    "gps_indices = [int(i.replace('\\n','')) for i in gps_indices]\n",
    "gps_indices.sort()\n",
    "\n",
    "#------optional (can comment out)--------\n",
    "with open(corrected_fp, \"r\") as read_file:\n",
    "    corrected_indices = json.load(read_file)\n",
    "corrected_indices = [(i['start'],i['stop']) for i in corrected_indices]\n"
   ]
  },
  {
   "cell_type": "markdown",
   "metadata": {},
   "source": [
    "#### Sun glint correction inputs"
   ]
  },
  {
   "cell_type": "code",
   "execution_count": 3,
   "metadata": {},
   "outputs": [],
   "source": [
    "sunglint_json_fp = r\"inputs\\sunglint_correction_2021_11_10_11-34-17.txt\"\n",
    "with open(sunglint_json_fp,\"r\") as cf:\n",
    "    bbox = json.load(cf)"
   ]
  },
  {
   "cell_type": "markdown",
   "metadata": {},
   "source": [
    "#### WQL inputs"
   ]
  },
  {
   "cell_type": "code",
   "execution_count": 9,
   "metadata": {},
   "outputs": [
    {
     "data": {
      "text/html": [
       "<div>\n",
       "<style scoped>\n",
       "    .dataframe tbody tr th:only-of-type {\n",
       "        vertical-align: middle;\n",
       "    }\n",
       "\n",
       "    .dataframe tbody tr th {\n",
       "        vertical-align: top;\n",
       "    }\n",
       "\n",
       "    .dataframe thead th {\n",
       "        text-align: right;\n",
       "    }\n",
       "</style>\n",
       "<table border=\"1\" class=\"dataframe\">\n",
       "  <thead>\n",
       "    <tr style=\"text-align: right;\">\n",
       "      <th></th>\n",
       "      <th>DATE</th>\n",
       "      <th>TIME</th>\n",
       "      <th>SITE</th>\n",
       "      <th>DATA ID</th>\n",
       "      <th>GPS Latitude ()</th>\n",
       "      <th>GPS Longitude ()</th>\n",
       "      <th>Barometer (mmHg)</th>\n",
       "      <th>Cond (µS/cm)</th>\n",
       "      <th>Sp Cond (µS/cm)</th>\n",
       "      <th>Sal (psu)</th>\n",
       "      <th>nLFCond (µS/cm)</th>\n",
       "      <th>TDS (mg/L)</th>\n",
       "      <th>Temp (F)</th>\n",
       "      <th>Resistivity (ohms-cm)</th>\n",
       "      <th>Sigma-T (s t)</th>\n",
       "      <th>Sigma (s)</th>\n",
       "      <th>Turbidity (FNU)</th>\n",
       "      <th>TSS (mg/L)</th>\n",
       "    </tr>\n",
       "  </thead>\n",
       "  <tbody>\n",
       "    <tr>\n",
       "      <th>0</th>\n",
       "      <td>11/10/2021</td>\n",
       "      <td>11:34:06 am</td>\n",
       "      <td>Flight2</td>\n",
       "      <td>NaN</td>\n",
       "      <td>1.23614</td>\n",
       "      <td>103.63084</td>\n",
       "      <td>756.8</td>\n",
       "      <td>51401.3</td>\n",
       "      <td>47169.2</td>\n",
       "      <td>30.54</td>\n",
       "      <td>46701.3</td>\n",
       "      <td>30660</td>\n",
       "      <td>85.5</td>\n",
       "      <td>19.5</td>\n",
       "      <td>18.5</td>\n",
       "      <td>18.5</td>\n",
       "      <td>6.01</td>\n",
       "      <td>0</td>\n",
       "    </tr>\n",
       "    <tr>\n",
       "      <th>1</th>\n",
       "      <td>11/10/2021</td>\n",
       "      <td>11:34:07 am</td>\n",
       "      <td>Flight2</td>\n",
       "      <td>NaN</td>\n",
       "      <td>1.23613</td>\n",
       "      <td>103.63084</td>\n",
       "      <td>756.8</td>\n",
       "      <td>51401.6</td>\n",
       "      <td>47169.2</td>\n",
       "      <td>30.54</td>\n",
       "      <td>46701.3</td>\n",
       "      <td>30660</td>\n",
       "      <td>85.5</td>\n",
       "      <td>19.5</td>\n",
       "      <td>18.5</td>\n",
       "      <td>18.5</td>\n",
       "      <td>6.07</td>\n",
       "      <td>0</td>\n",
       "    </tr>\n",
       "    <tr>\n",
       "      <th>2</th>\n",
       "      <td>11/10/2021</td>\n",
       "      <td>11:34:08 am</td>\n",
       "      <td>Flight2</td>\n",
       "      <td>NaN</td>\n",
       "      <td>1.23613</td>\n",
       "      <td>103.63083</td>\n",
       "      <td>756.9</td>\n",
       "      <td>51401.7</td>\n",
       "      <td>47169.2</td>\n",
       "      <td>30.54</td>\n",
       "      <td>46701.3</td>\n",
       "      <td>30660</td>\n",
       "      <td>85.5</td>\n",
       "      <td>19.5</td>\n",
       "      <td>18.5</td>\n",
       "      <td>18.5</td>\n",
       "      <td>6.11</td>\n",
       "      <td>0</td>\n",
       "    </tr>\n",
       "    <tr>\n",
       "      <th>3</th>\n",
       "      <td>11/10/2021</td>\n",
       "      <td>11:34:09 am</td>\n",
       "      <td>Flight2</td>\n",
       "      <td>NaN</td>\n",
       "      <td>1.23612</td>\n",
       "      <td>103.63082</td>\n",
       "      <td>756.8</td>\n",
       "      <td>51401.7</td>\n",
       "      <td>47169.3</td>\n",
       "      <td>30.54</td>\n",
       "      <td>46701.3</td>\n",
       "      <td>30660</td>\n",
       "      <td>85.5</td>\n",
       "      <td>19.5</td>\n",
       "      <td>18.5</td>\n",
       "      <td>18.5</td>\n",
       "      <td>6.15</td>\n",
       "      <td>0</td>\n",
       "    </tr>\n",
       "    <tr>\n",
       "      <th>4</th>\n",
       "      <td>11/10/2021</td>\n",
       "      <td>11:34:10 am</td>\n",
       "      <td>Flight2</td>\n",
       "      <td>NaN</td>\n",
       "      <td>1.23612</td>\n",
       "      <td>103.63081</td>\n",
       "      <td>756.9</td>\n",
       "      <td>51401.5</td>\n",
       "      <td>47169.2</td>\n",
       "      <td>30.54</td>\n",
       "      <td>46701.3</td>\n",
       "      <td>30660</td>\n",
       "      <td>85.5</td>\n",
       "      <td>19.5</td>\n",
       "      <td>18.5</td>\n",
       "      <td>18.5</td>\n",
       "      <td>6.23</td>\n",
       "      <td>0</td>\n",
       "    </tr>\n",
       "  </tbody>\n",
       "</table>\n",
       "</div>"
      ],
      "text/plain": [
       "         DATE         TIME     SITE  DATA ID  GPS Latitude ()  \\\n",
       "0  11/10/2021  11:34:06 am  Flight2      NaN          1.23614   \n",
       "1  11/10/2021  11:34:07 am  Flight2      NaN          1.23613   \n",
       "2  11/10/2021  11:34:08 am  Flight2      NaN          1.23613   \n",
       "3  11/10/2021  11:34:09 am  Flight2      NaN          1.23612   \n",
       "4  11/10/2021  11:34:10 am  Flight2      NaN          1.23612   \n",
       "\n",
       "   GPS Longitude ()  Barometer (mmHg)  Cond (µS/cm)  Sp Cond (µS/cm)  \\\n",
       "0         103.63084             756.8       51401.3          47169.2   \n",
       "1         103.63084             756.8       51401.6          47169.2   \n",
       "2         103.63083             756.9       51401.7          47169.2   \n",
       "3         103.63082             756.8       51401.7          47169.3   \n",
       "4         103.63081             756.9       51401.5          47169.2   \n",
       "\n",
       "   Sal (psu)  nLFCond (µS/cm)  TDS (mg/L)  Temp (F)  Resistivity (ohms-cm)  \\\n",
       "0      30.54          46701.3       30660      85.5                   19.5   \n",
       "1      30.54          46701.3       30660      85.5                   19.5   \n",
       "2      30.54          46701.3       30660      85.5                   19.5   \n",
       "3      30.54          46701.3       30660      85.5                   19.5   \n",
       "4      30.54          46701.3       30660      85.5                   19.5   \n",
       "\n",
       "   Sigma-T (s t)  Sigma (s)  Turbidity (FNU)  TSS (mg/L)  \n",
       "0           18.5       18.5             6.01           0  \n",
       "1           18.5       18.5             6.07           0  \n",
       "2           18.5       18.5             6.11           0  \n",
       "3           18.5       18.5             6.15           0  \n",
       "4           18.5       18.5             6.23           0  "
      ]
     },
     "execution_count": 9,
     "metadata": {},
     "output_type": "execute_result"
    }
   ],
   "source": [
    "wql_csv = r\"inputs\\wql.csv\"\n",
    "tss_df = pd.read_csv(wql_csv,engine='python')\n",
    "tss_lat = tss_df['GPS Latitude ()'].tolist()\n",
    "tss_lon = tss_df['GPS Longitude ()'].tolist()\n",
    "tss_measurements = tss_df['Turbidity (FNU)'].tolist()\n",
    "tss_df.head()"
   ]
  },
  {
   "cell_type": "markdown",
   "metadata": {},
   "source": [
    "#### Image segmentation inputs"
   ]
  },
  {
   "cell_type": "code",
   "execution_count": 6,
   "metadata": {},
   "outputs": [],
   "source": [
    "xgb_seg_fp = r\"Models\\image_segmentation\\xgb_segmentation.json\"\n",
    "xgb_seg_model = load_xgb_segmentation_model(xgb_seg_fp)"
   ]
  },
  {
   "cell_type": "markdown",
   "metadata": {},
   "source": [
    "#### Prediction inputs"
   ]
  },
  {
   "cell_type": "code",
   "execution_count": null,
   "metadata": {},
   "outputs": [],
   "source": [
    "model_fp = r\"Models\\turbidity_prediction\\XGB_corrected_trimmed100_1.json\"\n",
    "covariates_index_list = \"4:15,33:38,43:46,53:54\" #indices of covariates\n",
    "covariates_index = covariates_index_list.replace(' ','').split(',')\n",
    "covariates_index_list = []\n",
    "for i in covariates_index:\n",
    "    if ':' in i:\n",
    "        c_start, c_end = i.split(':')\n",
    "        covariates_index_list = covariates_index_list + list(range(int(c_start),int(c_end)+1))\n",
    "    else:\n",
    "        covariates_index_list.append(int(i))"
   ]
  },
  {
   "cell_type": "code",
   "execution_count": 7,
   "metadata": {},
   "outputs": [
    {
     "name": "stdout",
     "output_type": "stream",
     "text": [
      "gps file path:C:\\Users\\PAKHUIYING\\Documents\\image_processing\\10_11_2021\\11-34-17RES1280_EXP0047_GAN0030_BIT08_2EXP0000_GAN0010_RES1280_BIT08/UAV/gps_11-34-47-860.csv\n"
     ]
    }
   ],
   "source": [
    "gps_df = import_gps(image_fp)\n",
    "unique_gps_df = get_unique_df(gps_df)\n",
    "test_gps_index = gps_indices\n",
    "indexes_list = gps_to_image_indices(unique_gps_df,image_fp,test_gps_index,slider)\n",
    "reverse_boolean_list = rev_boolean_list(unique_gps_df,test_gps_index)"
   ]
  },
  {
   "cell_type": "markdown",
   "metadata": {},
   "source": [
    "# Process images"
   ]
  },
  {
   "cell_type": "markdown",
   "metadata": {},
   "source": [
    "### Save user-options"
   ]
  },
  {
   "cell_type": "code",
   "execution_count": 8,
   "metadata": {},
   "outputs": [],
   "source": [
    "config_file = {'-PROCESSED_IMAGES-':fp_store,'-PREFIX-':prefix,'-IMAGE_FOLDER_FILEPATH-':image_fp,\\\n",
    "                '-SPECTRO_FILEPATH-':spectrometer_fp,\\\n",
    "                '-HEIGHT-':height,'-GPS_INDEX_TXT-':gps_index_txt,'-SLIDER-':slider,\\\n",
    "                '-LINE_START-':line_start,'-LINE_END-':line_stop,'rgb_bands':[r,g,b],\\\n",
    "                '-MASK_CHECKBOX-':mask_checkbox,'-CLASSIFY_CHECKBOX-':classify_checkbox,'-NOISE_CHECKBOX-':noise_checkbox,\\\n",
    "                '-SUNGLINT_CHECKBOX-':sunglint_checkbox,'-PREDICT_CHECKBOX-':predict_checkbox,\\\n",
    "                'corrected_indices':corrected_indices}\n",
    "\n",
    "with open(join(fp_store,'config_file_{}.txt'.format(config_file['-PREFIX-'])),'w') as cf:\n",
    "    json.dump(config_file,cf)"
   ]
  },
  {
   "cell_type": "markdown",
   "metadata": {},
   "source": [
    "#### sun glint correction"
   ]
  },
  {
   "cell_type": "code",
   "execution_count": null,
   "metadata": {},
   "outputs": [],
   "source": [
    "try:\n",
    "    line_glint = bbox['glint']['line']\n",
    "    start_i,end_i = indexes_list[line_glint]\n",
    "    test_stitch_class = StitchHyperspectral(fp_store,config_file['-PREFIX-'],config_file['-IMAGE_FOLDER_FILEPATH-'],config_file['-SPECTRO_FILEPATH-'],\\\n",
    "        int(config_file['-HEIGHT-']),line_glint,start_i,end_i,\\\n",
    "        test_gps_index, unique_gps_df,reverse=reverse_boolean_list[line_glint])\n",
    "\n",
    "    reflectance_glint = test_stitch_class.get_stitched_reflectance() #radiometrically corrected reflectance only for the image line where glint bbox is drawn on\n",
    "except Exception as E:\n",
    "    sunglint_json_fp = None\n",
    "    reflectance_glint = None"
   ]
  },
  {
   "cell_type": "code",
   "execution_count": 11,
   "metadata": {},
   "outputs": [
    {
     "name": "stdout",
     "output_type": "stream",
     "text": [
      "Segmentation not conducted...\n",
      "image obtained from gps indexes (86, 96): outputs\\2021_11_10_11-34-17_rgb_image_line_00_3705_4145.tif\n",
      "Flight angle is 59.20\n",
      "Performing geotransformation...\n",
      "Upper left corner coord: lat:1.2371850026029676, lon:103.63038231523548\n",
      "Segmentation not conducted...\n",
      "image obtained from gps indexes (112, 126): outputs\\2021_11_10_11-34-17_rgb_image_line_01_4840_5454.tif\n",
      "Flight angle is 59.71\n",
      "Performing geotransformation...\n",
      "Upper left corner coord: lat:1.2373836720331157, lon:103.63039596368444\n"
     ]
    }
   ],
   "source": [
    "for line_number in range(line_start, line_stop+1):\n",
    "    start_i,end_i = indexes_list[line_number]\n",
    "    test_stitch_class = StitchHyperspectral(fp_store,config_file['-PREFIX-'],config_file['-IMAGE_FOLDER_FILEPATH-'],config_file['-SPECTRO_FILEPATH-'],\\\n",
    "                        int(config_file['-HEIGHT-']),line_number,start_i,end_i,\\\n",
    "                        test_gps_index, unique_gps_df, destriping = config_file['-NOISE_CHECKBOX-'],\\\n",
    "                        reverse=reverse_boolean_list[line_number])\n",
    "    test_stitch_class.view_pseudo_colour(r,g,b) #outputs rgb\n",
    "    # #-----optional (can comment out)-------------\n",
    "    # ##-----sunglint correction----\n",
    "    # if config_file['-SUNGLINT_CHECKBOX-'] is True and sunglint_json_fp is not None and reflectance_glint is not None:\n",
    "    #     sgc = SunglintCorrection(test_stitch_class,sunglint_json_fp,reflectance_glint)\n",
    "    #     sgc.sunglint_correction_rgb()\n",
    "    #     sgc_reflectance = sgc.sunglint_correction_reflectance()\n",
    "    #     reflectance = None\n",
    "    #     print(\"Performing sunglint correction on hyperspectral reflectances...\")\n",
    "    # else:\n",
    "    #     print(\"No sunglint correction...\")\n",
    "    #     config_file['-SUNGLINT_CHECKBOX-'] = False\n",
    "    #     sgc_reflectance = None\n",
    "    ##-----masking--------------\n",
    "    if config_file['-MASK_CHECKBOX-'] is True:\n",
    "        print(\"Performing segmentation...\")\n",
    "        mask = test_stitch_class.get_mask(xgb_seg_model,type=\"XGBoost\")\n",
    "    else:\n",
    "        print(\"Segmentation not conducted...\")\n",
    "        mask = None\n",
    "    # ##-----radiometric correction--------------\n",
    "    # if config_file['-RADIOMETRIC_CHECKBOX-'] is True:\n",
    "    #     reflectance = test_stitch_class.get_stitched_reflectance()\n",
    "    #     print(\"Getting radiometrically corrected reflectances...\")\n",
    "    # else:\n",
    "    #     reflectance = test_stitch_class.get_stitched_uncorrected_reflectance()\n",
    "    #     print(\"Getting uncorrected reflectances...\")\n",
    "    # ##---------extraction of spectral information\n",
    "    # if tss_lat is not None:\n",
    "    #     #extraction of spectral information\n",
    "    #     test_stitch_class.get_reflectance_from_GPS(tss_lat,tss_lon,tss_measurements,\\\n",
    "    #         radius=2, mask = mask,\\\n",
    "    #         glint_corrected_reflectance=sgc_reflectance,reflectance = reflectance)\n",
    "    gti = GeotransformImage(test_stitch_class,\\\n",
    "        mask = mask, classify = config_file['-CLASSIFY_CHECKBOX-'],\\\n",
    "        transform_predicted_image = config_file['-PREDICT_CHECKBOX-'],\\\n",
    "        sunglint_correction=config_file['-SUNGLINT_CHECKBOX-'])\n",
    "    gti.geotransform_image()\n",
    "    "
   ]
  }
 ],
 "metadata": {
  "interpreter": {
   "hash": "c1f4261db12fd07673503e5fd446ed7a8878d5c15460650a698d1b8f6c66269b"
  },
  "kernelspec": {
   "display_name": "Python 3.6.13 ('GUI_test_python36')",
   "language": "python",
   "name": "python3"
  },
  "language_info": {
   "codemirror_mode": {
    "name": "ipython",
    "version": 3
   },
   "file_extension": ".py",
   "mimetype": "text/x-python",
   "name": "python",
   "nbconvert_exporter": "python",
   "pygments_lexer": "ipython3",
   "version": "3.6.13"
  },
  "orig_nbformat": 4
 },
 "nbformat": 4,
 "nbformat_minor": 2
}
